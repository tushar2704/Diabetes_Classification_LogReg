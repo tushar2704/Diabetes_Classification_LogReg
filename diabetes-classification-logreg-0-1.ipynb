{
 "cells": [
  {
   "cell_type": "markdown",
   "id": "86b46c9a",
   "metadata": {
    "papermill": {
     "duration": 0.019363,
     "end_time": "2023-01-18T17:31:04.847294",
     "exception": false,
     "start_time": "2023-01-18T17:31:04.827931",
     "status": "completed"
    },
    "tags": []
   },
   "source": [
    "<div style=\"color:white;\n",
    "           display:fill;\n",
    "           border-radius:2px;\n",
    "           background-color:#F5DEB3;\n",
    "           font-size:250%;\n",
    "           font-family:Verdana;\n",
    "           letter-spacing:0.5px\">\n",
    "<p style=\"padding: 10px;\n",
    "          text-align: center;\n",
    "          font-size:150%;\n",
    "          color:blue;\">\n",
    "           🧋Diabetes Classification🧋- LogReg binary(0️⃣-1️⃣)\n",
    "</p>\n",
    "<style>\n",
    "        h1{text-align: center;}\n",
    " </style>  \n",
    "    \n",
    "</div>"
   ]
  },
  {
   "cell_type": "markdown",
   "id": "cf089baf",
   "metadata": {
    "papermill": {
     "duration": 0.016219,
     "end_time": "2023-01-18T17:31:04.877946",
     "exception": false,
     "start_time": "2023-01-18T17:31:04.861727",
     "status": "completed"
    },
    "tags": []
   },
   "source": [
    "<p style=\"font-family:cursive; font-size:15px; color:'darkcyan';\">I brewed this notebook from scratch, If this notebook helped, please consider upvoting and cite me if sharing ,Thank you!</p>\n",
    "​\n",
    "<p style=\"width: 700px;padding: 15px;background: papayawhip;border-radius:10px;font-size:15px;border-radius:20px\">\n",
    "    <a href=\"https://www.linkedin.com/in/tusharaggarwalinseec/\" target=\"_blank\">Lets connect on LinkedIn!</a>\n",
    "    \n",
    "   </p>\n",
    "<p style=\"width: 700px;padding: 15px;background: papayawhip;border-radius:10px;font-size:15px;border-radius:20px\">\n",
    "<a href=\"https://github.com/tushar2704\" target=\"_blank\">Follow me on Github too!</a> </p>\n",
    "<p style=\"width: 700px;padding: 15px;background: papayawhip;border-radius:10px;font-size:15px;border-radius:20px\">\n",
    "    <a href=\"https://medium.com/@tushar_aggarwal\" target=\"_blank\">Also checkout my Medium posts!</a>\n",
    "    \n",
    "   </p>"
   ]
  },
  {
   "cell_type": "markdown",
   "id": "b6b05e61",
   "metadata": {
    "papermill": {
     "duration": 0.013631,
     "end_time": "2023-01-18T17:31:04.905706",
     "exception": false,
     "start_time": "2023-01-18T17:31:04.892075",
     "status": "completed"
    },
    "tags": []
   },
   "source": [
    "<div style=\"color:black;\n",
    "           display:fill;\n",
    "           border-radius:10px;\n",
    "           background-color:skyblue;\n",
    "           font-size:120%;\n",
    "           font-family:Helvetica, Sans-Serif;\n",
    "           letter-spacing:0.5px\">\n",
    "\n",
    "<p style=\"padding: 10px;\n",
    "          text-align: left;\n",
    "          color:black;\">\n",
    "In this notebook, I used Logistic Regression i.e.(Binary output), to classify if the individual has diabetes or not needless to say with Diabetes data.\n",
    "\n",
    " Note:I completely brewed this notebbok from cratch, if you learn from it please upvote and cite me if sharing on other platforms.\n",
    "\n",
    "</p>"
   ]
  },
  {
   "cell_type": "markdown",
   "id": "d8b6dbd5",
   "metadata": {
    "papermill": {
     "duration": 0.013522,
     "end_time": "2023-01-18T17:31:04.933207",
     "exception": false,
     "start_time": "2023-01-18T17:31:04.919685",
     "status": "completed"
    },
    "tags": []
   },
   "source": [
    "<div style=\"color:white;\n",
    "           display:fill;\n",
    "           border-radius:5px;\n",
    "           background-color:orange;\n",
    "           font-size:120%;\n",
    "           font-family:Helvetica, Sans-Serif;\n",
    "           letter-spacing:0.5px\">\n",
    "\n",
    "<p style=\"padding: 10px;\n",
    "          text-align: center;\n",
    "          color:black;\">\n",
    "Importing the required libraries\n",
    "\n",
    "</p>"
   ]
  },
  {
   "cell_type": "code",
   "execution_count": 1,
   "id": "ae8f5d3a",
   "metadata": {
    "execution": {
     "iopub.execute_input": "2023-01-18T17:31:04.963907Z",
     "iopub.status.busy": "2023-01-18T17:31:04.962354Z",
     "iopub.status.idle": "2023-01-18T17:31:06.097919Z",
     "shell.execute_reply": "2023-01-18T17:31:06.096483Z"
    },
    "papermill": {
     "duration": 1.155334,
     "end_time": "2023-01-18T17:31:06.102371",
     "exception": false,
     "start_time": "2023-01-18T17:31:04.947037",
     "status": "completed"
    },
    "tags": []
   },
   "outputs": [],
   "source": [
    "import numpy as np\n",
    "import pandas as pd\n",
    "import matplotlib.pyplot as plt\n",
    "import seaborn as sns\n",
    "import statsmodels.formula.api as smf"
   ]
  },
  {
   "cell_type": "markdown",
   "id": "83a1ac07",
   "metadata": {
    "papermill": {
     "duration": 0.01361,
     "end_time": "2023-01-18T17:31:06.132270",
     "exception": false,
     "start_time": "2023-01-18T17:31:06.118660",
     "status": "completed"
    },
    "tags": []
   },
   "source": [
    "<div style=\"color:black;\n",
    "           display:fill;\n",
    "           border-radius:5px;\n",
    "           background-color:orange;\n",
    "           font-size:120%;\n",
    "           font-family:Helvetica, Sans-Serif;\n",
    "           letter-spacing:0.5px\">\n",
    "\n",
    "<p style=\"padding: 10px;\n",
    "          text-align: center;\n",
    "          color:black;\">\n",
    "Importing the data file (in csv format) into colab\n",
    "</p>\n"
   ]
  },
  {
   "cell_type": "markdown",
   "id": "4444aeeb",
   "metadata": {
    "papermill": {
     "duration": 0.013452,
     "end_time": "2023-01-18T17:31:06.159708",
     "exception": false,
     "start_time": "2023-01-18T17:31:06.146256",
     "status": "completed"
    },
    "tags": []
   },
   "source": [
    "<div style=\"color:black;\n",
    "           display:fill;\n",
    "           border-radius:5px;\n",
    "           background-color:orange;\n",
    "           font-size:120%;\n",
    "           font-family:Helvetica, Sans-Serif;\n",
    "           letter-spacing:0.5px\">\n",
    "\n",
    "<p style=\"padding: 10px;\n",
    "          text-align: center;\n",
    "          color:black;\">Saving the imported file in colab with the name \"diab_data\"\n",
    "\n",
    "</p>"
   ]
  },
  {
   "cell_type": "code",
   "execution_count": 2,
   "id": "15b3b145",
   "metadata": {
    "execution": {
     "iopub.execute_input": "2023-01-18T17:31:06.189741Z",
     "iopub.status.busy": "2023-01-18T17:31:06.188885Z",
     "iopub.status.idle": "2023-01-18T17:31:06.210009Z",
     "shell.execute_reply": "2023-01-18T17:31:06.209009Z"
    },
    "papermill": {
     "duration": 0.039207,
     "end_time": "2023-01-18T17:31:06.212703",
     "exception": false,
     "start_time": "2023-01-18T17:31:06.173496",
     "status": "completed"
    },
    "tags": []
   },
   "outputs": [],
   "source": [
    "diab_data = pd.read_csv('../input/diabetes/diabetes.csv')"
   ]
  },
  {
   "cell_type": "markdown",
   "id": "fcc18031",
   "metadata": {
    "papermill": {
     "duration": 0.013989,
     "end_time": "2023-01-18T17:31:06.241207",
     "exception": false,
     "start_time": "2023-01-18T17:31:06.227218",
     "status": "completed"
    },
    "tags": []
   },
   "source": [
    "<div style=\"color:white;\n",
    "           display:fill;\n",
    "           border-radius:5px;\n",
    "           background-color:orange;\n",
    "           font-size:120%;\n",
    "           font-family:Helvetica, Sans-Serif;\n",
    "           letter-spacing:0.5px\">\n",
    "\n",
    "<p style=\"padding: 10px;\n",
    "          text-align: center;\n",
    "          color:black;\">\n",
    "Let's have a look at the data\n",
    "\n",
    "</p>\n",
    "\n"
   ]
  },
  {
   "cell_type": "code",
   "execution_count": 3,
   "id": "843a37f8",
   "metadata": {
    "execution": {
     "iopub.execute_input": "2023-01-18T17:31:06.270574Z",
     "iopub.status.busy": "2023-01-18T17:31:06.270130Z",
     "iopub.status.idle": "2023-01-18T17:31:06.291817Z",
     "shell.execute_reply": "2023-01-18T17:31:06.290652Z"
    },
    "papermill": {
     "duration": 0.040294,
     "end_time": "2023-01-18T17:31:06.295273",
     "exception": false,
     "start_time": "2023-01-18T17:31:06.254979",
     "status": "completed"
    },
    "tags": []
   },
   "outputs": [
    {
     "data": {
      "text/html": [
       "<div>\n",
       "<style scoped>\n",
       "    .dataframe tbody tr th:only-of-type {\n",
       "        vertical-align: middle;\n",
       "    }\n",
       "\n",
       "    .dataframe tbody tr th {\n",
       "        vertical-align: top;\n",
       "    }\n",
       "\n",
       "    .dataframe thead th {\n",
       "        text-align: right;\n",
       "    }\n",
       "</style>\n",
       "<table border=\"1\" class=\"dataframe\">\n",
       "  <thead>\n",
       "    <tr style=\"text-align: right;\">\n",
       "      <th></th>\n",
       "      <th>pregnant</th>\n",
       "      <th>glucose</th>\n",
       "      <th>pressure</th>\n",
       "      <th>triceps</th>\n",
       "      <th>insulin</th>\n",
       "      <th>mass</th>\n",
       "      <th>pedigree</th>\n",
       "      <th>age</th>\n",
       "      <th>diabetes</th>\n",
       "    </tr>\n",
       "  </thead>\n",
       "  <tbody>\n",
       "    <tr>\n",
       "      <th>0</th>\n",
       "      <td>1</td>\n",
       "      <td>89</td>\n",
       "      <td>66</td>\n",
       "      <td>23</td>\n",
       "      <td>94</td>\n",
       "      <td>28.1</td>\n",
       "      <td>0.167</td>\n",
       "      <td>21</td>\n",
       "      <td>neg</td>\n",
       "    </tr>\n",
       "    <tr>\n",
       "      <th>1</th>\n",
       "      <td>0</td>\n",
       "      <td>137</td>\n",
       "      <td>40</td>\n",
       "      <td>35</td>\n",
       "      <td>168</td>\n",
       "      <td>43.1</td>\n",
       "      <td>2.288</td>\n",
       "      <td>33</td>\n",
       "      <td>pos</td>\n",
       "    </tr>\n",
       "    <tr>\n",
       "      <th>2</th>\n",
       "      <td>3</td>\n",
       "      <td>78</td>\n",
       "      <td>50</td>\n",
       "      <td>32</td>\n",
       "      <td>88</td>\n",
       "      <td>31.0</td>\n",
       "      <td>0.248</td>\n",
       "      <td>26</td>\n",
       "      <td>pos</td>\n",
       "    </tr>\n",
       "    <tr>\n",
       "      <th>3</th>\n",
       "      <td>2</td>\n",
       "      <td>197</td>\n",
       "      <td>70</td>\n",
       "      <td>45</td>\n",
       "      <td>543</td>\n",
       "      <td>30.5</td>\n",
       "      <td>0.158</td>\n",
       "      <td>53</td>\n",
       "      <td>pos</td>\n",
       "    </tr>\n",
       "    <tr>\n",
       "      <th>4</th>\n",
       "      <td>1</td>\n",
       "      <td>189</td>\n",
       "      <td>60</td>\n",
       "      <td>23</td>\n",
       "      <td>846</td>\n",
       "      <td>30.1</td>\n",
       "      <td>0.398</td>\n",
       "      <td>59</td>\n",
       "      <td>pos</td>\n",
       "    </tr>\n",
       "  </tbody>\n",
       "</table>\n",
       "</div>"
      ],
      "text/plain": [
       "   pregnant  glucose  pressure  triceps  insulin  mass  pedigree  age diabetes\n",
       "0         1       89        66       23       94  28.1     0.167   21      neg\n",
       "1         0      137        40       35      168  43.1     2.288   33      pos\n",
       "2         3       78        50       32       88  31.0     0.248   26      pos\n",
       "3         2      197        70       45      543  30.5     0.158   53      pos\n",
       "4         1      189        60       23      846  30.1     0.398   59      pos"
      ]
     },
     "execution_count": 3,
     "metadata": {},
     "output_type": "execute_result"
    }
   ],
   "source": [
    "diab_data.head()"
   ]
  },
  {
   "cell_type": "markdown",
   "id": "dd567eb2",
   "metadata": {
    "papermill": {
     "duration": 0.013942,
     "end_time": "2023-01-18T17:31:06.323883",
     "exception": false,
     "start_time": "2023-01-18T17:31:06.309941",
     "status": "completed"
    },
    "tags": []
   },
   "source": [
    "<div style=\"color:white;\n",
    "           display:fill;\n",
    "           border-radius:5px;\n",
    "           background-color:orange;\n",
    "           font-size:120%;\n",
    "           font-family:Helvetica, Sans-Serif;\n",
    "           letter-spacing:0.5px\">\n",
    "\n",
    "<p style=\"padding: 10px;\n",
    "          text-align: center;\n",
    "          color:black;\">\n",
    "Getting the type of data\n",
    "\n",
    "</p>"
   ]
  },
  {
   "cell_type": "code",
   "execution_count": 4,
   "id": "9c0d9365",
   "metadata": {
    "execution": {
     "iopub.execute_input": "2023-01-18T17:31:06.354076Z",
     "iopub.status.busy": "2023-01-18T17:31:06.353623Z",
     "iopub.status.idle": "2023-01-18T17:31:06.374881Z",
     "shell.execute_reply": "2023-01-18T17:31:06.373552Z"
    },
    "papermill": {
     "duration": 0.040267,
     "end_time": "2023-01-18T17:31:06.378344",
     "exception": false,
     "start_time": "2023-01-18T17:31:06.338077",
     "status": "completed"
    },
    "tags": []
   },
   "outputs": [
    {
     "name": "stdout",
     "output_type": "stream",
     "text": [
      "<class 'pandas.core.frame.DataFrame'>\n",
      "RangeIndex: 392 entries, 0 to 391\n",
      "Data columns (total 9 columns):\n",
      " #   Column    Non-Null Count  Dtype  \n",
      "---  ------    --------------  -----  \n",
      " 0   pregnant  392 non-null    int64  \n",
      " 1   glucose   392 non-null    int64  \n",
      " 2   pressure  392 non-null    int64  \n",
      " 3   triceps   392 non-null    int64  \n",
      " 4   insulin   392 non-null    int64  \n",
      " 5   mass      392 non-null    float64\n",
      " 6   pedigree  392 non-null    float64\n",
      " 7   age       392 non-null    int64  \n",
      " 8   diabetes  392 non-null    object \n",
      "dtypes: float64(2), int64(6), object(1)\n",
      "memory usage: 27.7+ KB\n"
     ]
    }
   ],
   "source": [
    "diab_data.info()"
   ]
  },
  {
   "cell_type": "markdown",
   "id": "81496635",
   "metadata": {
    "execution": {
     "iopub.execute_input": "2022-11-22T04:14:52.387337Z",
     "iopub.status.busy": "2022-11-22T04:14:52.386916Z",
     "iopub.status.idle": "2022-11-22T04:14:52.393666Z",
     "shell.execute_reply": "2022-11-22T04:14:52.392565Z",
     "shell.execute_reply.started": "2022-11-22T04:14:52.387302Z"
    },
    "papermill": {
     "duration": 0.014196,
     "end_time": "2023-01-18T17:31:06.408719",
     "exception": false,
     "start_time": "2023-01-18T17:31:06.394523",
     "status": "completed"
    },
    "tags": []
   },
   "source": [
    "<div style=\"color:white;\n",
    "           display:fill;\n",
    "           border-radius:5px;\n",
    "           background-color:#E35335;\n",
    "           font-size:100%;\n",
    "           font-family:Helvetica, Sans-Serif;\n",
    "           letter-spacing:0.5px\">\n",
    "<p style=\"padding:3px;\n",
    "          text-align: center;\n",
    "          font-size:100%;\n",
    "          color:black;\">          \n",
    "          <span style='font-size:30px;'>&#128221;</span> \n",
    "    Note: The variable/feature \"diabetes\" is recognized as \"object\".\n",
    "\n",
    "*We need to change the values of the variable \"diabetes\" to zero and one\n",
    "    \n",
    "*We change the value \"pos\" to 1 and \"neg\" to 0. Generally, the event of interest is coded/represented as \"1\" and non-event as \"0\"\n",
    "    \n",
    "*To do this change, we use \"map\" function<span style='font-size:30px;'>&#128227;</span>\n",
    "</p>\n",
    "<style>\n",
    "        h1{text-align: center;}\n",
    " </style>  \n",
    "    \n",
    "</div>\n"
   ]
  },
  {
   "cell_type": "markdown",
   "id": "1f399c9f",
   "metadata": {
    "papermill": {
     "duration": 0.013937,
     "end_time": "2023-01-18T17:31:06.437268",
     "exception": false,
     "start_time": "2023-01-18T17:31:06.423331",
     "status": "completed"
    },
    "tags": []
   },
   "source": [
    "<div style=\"color:white;\n",
    "           display:fill;\n",
    "           border-radius:5px;\n",
    "           background-color:orange;\n",
    "           font-size:120%;\n",
    "           font-family:Helvetica, Sans-Serif;\n",
    "           letter-spacing:0.5px\">\n",
    "\n",
    "<p style=\"padding: 10px;\n",
    "          text-align: center;\n",
    "          color:black;\">\n",
    "Mapping \"diabetes\" column into binary\n",
    "\n",
    "</p>"
   ]
  },
  {
   "cell_type": "code",
   "execution_count": 5,
   "id": "f87be233",
   "metadata": {
    "execution": {
     "iopub.execute_input": "2023-01-18T17:31:06.470338Z",
     "iopub.status.busy": "2023-01-18T17:31:06.469661Z",
     "iopub.status.idle": "2023-01-18T17:31:06.477385Z",
     "shell.execute_reply": "2023-01-18T17:31:06.475692Z"
    },
    "papermill": {
     "duration": 0.027951,
     "end_time": "2023-01-18T17:31:06.479947",
     "exception": false,
     "start_time": "2023-01-18T17:31:06.451996",
     "status": "completed"
    },
    "tags": []
   },
   "outputs": [],
   "source": [
    "diab_data['diabetes'] = diab_data['diabetes'].map({'neg':0, 'pos':1})"
   ]
  },
  {
   "cell_type": "code",
   "execution_count": 6,
   "id": "6192e5b2",
   "metadata": {
    "execution": {
     "iopub.execute_input": "2023-01-18T17:31:06.515336Z",
     "iopub.status.busy": "2023-01-18T17:31:06.514860Z",
     "iopub.status.idle": "2023-01-18T17:31:06.528923Z",
     "shell.execute_reply": "2023-01-18T17:31:06.527763Z"
    },
    "papermill": {
     "duration": 0.035714,
     "end_time": "2023-01-18T17:31:06.531268",
     "exception": false,
     "start_time": "2023-01-18T17:31:06.495554",
     "status": "completed"
    },
    "tags": []
   },
   "outputs": [
    {
     "data": {
      "text/html": [
       "<div>\n",
       "<style scoped>\n",
       "    .dataframe tbody tr th:only-of-type {\n",
       "        vertical-align: middle;\n",
       "    }\n",
       "\n",
       "    .dataframe tbody tr th {\n",
       "        vertical-align: top;\n",
       "    }\n",
       "\n",
       "    .dataframe thead th {\n",
       "        text-align: right;\n",
       "    }\n",
       "</style>\n",
       "<table border=\"1\" class=\"dataframe\">\n",
       "  <thead>\n",
       "    <tr style=\"text-align: right;\">\n",
       "      <th></th>\n",
       "      <th>pregnant</th>\n",
       "      <th>glucose</th>\n",
       "      <th>pressure</th>\n",
       "      <th>triceps</th>\n",
       "      <th>insulin</th>\n",
       "      <th>mass</th>\n",
       "      <th>pedigree</th>\n",
       "      <th>age</th>\n",
       "      <th>diabetes</th>\n",
       "    </tr>\n",
       "  </thead>\n",
       "  <tbody>\n",
       "    <tr>\n",
       "      <th>0</th>\n",
       "      <td>1</td>\n",
       "      <td>89</td>\n",
       "      <td>66</td>\n",
       "      <td>23</td>\n",
       "      <td>94</td>\n",
       "      <td>28.1</td>\n",
       "      <td>0.167</td>\n",
       "      <td>21</td>\n",
       "      <td>0</td>\n",
       "    </tr>\n",
       "    <tr>\n",
       "      <th>1</th>\n",
       "      <td>0</td>\n",
       "      <td>137</td>\n",
       "      <td>40</td>\n",
       "      <td>35</td>\n",
       "      <td>168</td>\n",
       "      <td>43.1</td>\n",
       "      <td>2.288</td>\n",
       "      <td>33</td>\n",
       "      <td>1</td>\n",
       "    </tr>\n",
       "    <tr>\n",
       "      <th>2</th>\n",
       "      <td>3</td>\n",
       "      <td>78</td>\n",
       "      <td>50</td>\n",
       "      <td>32</td>\n",
       "      <td>88</td>\n",
       "      <td>31.0</td>\n",
       "      <td>0.248</td>\n",
       "      <td>26</td>\n",
       "      <td>1</td>\n",
       "    </tr>\n",
       "    <tr>\n",
       "      <th>3</th>\n",
       "      <td>2</td>\n",
       "      <td>197</td>\n",
       "      <td>70</td>\n",
       "      <td>45</td>\n",
       "      <td>543</td>\n",
       "      <td>30.5</td>\n",
       "      <td>0.158</td>\n",
       "      <td>53</td>\n",
       "      <td>1</td>\n",
       "    </tr>\n",
       "    <tr>\n",
       "      <th>4</th>\n",
       "      <td>1</td>\n",
       "      <td>189</td>\n",
       "      <td>60</td>\n",
       "      <td>23</td>\n",
       "      <td>846</td>\n",
       "      <td>30.1</td>\n",
       "      <td>0.398</td>\n",
       "      <td>59</td>\n",
       "      <td>1</td>\n",
       "    </tr>\n",
       "  </tbody>\n",
       "</table>\n",
       "</div>"
      ],
      "text/plain": [
       "   pregnant  glucose  pressure  triceps  insulin  mass  pedigree  age  \\\n",
       "0         1       89        66       23       94  28.1     0.167   21   \n",
       "1         0      137        40       35      168  43.1     2.288   33   \n",
       "2         3       78        50       32       88  31.0     0.248   26   \n",
       "3         2      197        70       45      543  30.5     0.158   53   \n",
       "4         1      189        60       23      846  30.1     0.398   59   \n",
       "\n",
       "   diabetes  \n",
       "0         0  \n",
       "1         1  \n",
       "2         1  \n",
       "3         1  \n",
       "4         1  "
      ]
     },
     "execution_count": 6,
     "metadata": {},
     "output_type": "execute_result"
    }
   ],
   "source": [
    "diab_data.head()"
   ]
  },
  {
   "cell_type": "markdown",
   "id": "6b13d661",
   "metadata": {
    "papermill": {
     "duration": 0.014396,
     "end_time": "2023-01-18T17:31:06.560797",
     "exception": false,
     "start_time": "2023-01-18T17:31:06.546401",
     "status": "completed"
    },
    "tags": []
   },
   "source": [
    "<div style=\"color:white;\n",
    "           display:fill;\n",
    "           border-radius:5px;\n",
    "           background-color:orange;\n",
    "           font-size:120%;\n",
    "           font-family:Helvetica, Sans-Serif;\n",
    "           letter-spacing:0.5px\">\n",
    "\n",
    "<p style=\"padding: 10px;\n",
    "          text-align: center;\n",
    "          color:black;\">\n",
    "The datatype for \"diabetes\" column should now be int64\n",
    "\n",
    "</p>"
   ]
  },
  {
   "cell_type": "code",
   "execution_count": 7,
   "id": "14655a7a",
   "metadata": {
    "execution": {
     "iopub.execute_input": "2023-01-18T17:31:06.593034Z",
     "iopub.status.busy": "2023-01-18T17:31:06.592196Z",
     "iopub.status.idle": "2023-01-18T17:31:06.606232Z",
     "shell.execute_reply": "2023-01-18T17:31:06.604423Z"
    },
    "papermill": {
     "duration": 0.033385,
     "end_time": "2023-01-18T17:31:06.608774",
     "exception": false,
     "start_time": "2023-01-18T17:31:06.575389",
     "status": "completed"
    },
    "tags": []
   },
   "outputs": [
    {
     "name": "stdout",
     "output_type": "stream",
     "text": [
      "<class 'pandas.core.frame.DataFrame'>\n",
      "RangeIndex: 392 entries, 0 to 391\n",
      "Data columns (total 9 columns):\n",
      " #   Column    Non-Null Count  Dtype  \n",
      "---  ------    --------------  -----  \n",
      " 0   pregnant  392 non-null    int64  \n",
      " 1   glucose   392 non-null    int64  \n",
      " 2   pressure  392 non-null    int64  \n",
      " 3   triceps   392 non-null    int64  \n",
      " 4   insulin   392 non-null    int64  \n",
      " 5   mass      392 non-null    float64\n",
      " 6   pedigree  392 non-null    float64\n",
      " 7   age       392 non-null    int64  \n",
      " 8   diabetes  392 non-null    int64  \n",
      "dtypes: float64(2), int64(7)\n",
      "memory usage: 27.7 KB\n"
     ]
    }
   ],
   "source": [
    "diab_data.info()"
   ]
  },
  {
   "cell_type": "markdown",
   "id": "f318ea72",
   "metadata": {
    "papermill": {
     "duration": 0.014199,
     "end_time": "2023-01-18T17:31:06.637366",
     "exception": false,
     "start_time": "2023-01-18T17:31:06.623167",
     "status": "completed"
    },
    "tags": []
   },
   "source": [
    "<div style=\"color:black;\n",
    "           display:fill;\n",
    "           border-radius:10px;\n",
    "           background-color:skyblue;\n",
    "           font-size:120%;\n",
    "           font-family:Helvetica, Sans-Serif;\n",
    "           letter-spacing:0.5px\">\n",
    "\n",
    "<p style=\"padding: 10px;\n",
    "          text-align: left;\n",
    "          color:black;\">\n",
    "#Let us visualize how the \"probability of having diabetes\" changes when there is a change in another variable. \n",
    "\n",
    " #Let us consider the variable \"pedigree\" for this purpose\n",
    "\n",
    " #Jitter is simply the addition of a small amount of horizontal (or vertical) variability to the data in order to ensure all data points are visible\n",
    "\n",
    "</p>"
   ]
  },
  {
   "cell_type": "markdown",
   "id": "7ec08dcc",
   "metadata": {
    "papermill": {
     "duration": 0.01431,
     "end_time": "2023-01-18T17:31:06.666167",
     "exception": false,
     "start_time": "2023-01-18T17:31:06.651857",
     "status": "completed"
    },
    "tags": []
   },
   "source": [
    "<div style=\"color:white;\n",
    "           display:fill;\n",
    "           border-radius:5px;\n",
    "           background-color:orange;\n",
    "           font-size:120%;\n",
    "           font-family:Helvetica, Sans-Serif;\n",
    "           letter-spacing:0.5px\">\n",
    "\n",
    "<p style=\"padding: 10px;\n",
    "          text-align: center;\n",
    "          color:black;\">\n",
    "Displaying regplot for \"pedigree\"\n",
    "\n",
    "</p>"
   ]
  },
  {
   "cell_type": "code",
   "execution_count": 8,
   "id": "4f3723b0",
   "metadata": {
    "execution": {
     "iopub.execute_input": "2023-01-18T17:31:06.699413Z",
     "iopub.status.busy": "2023-01-18T17:31:06.698213Z",
     "iopub.status.idle": "2023-01-18T17:31:06.948164Z",
     "shell.execute_reply": "2023-01-18T17:31:06.946983Z"
    },
    "papermill": {
     "duration": 0.268489,
     "end_time": "2023-01-18T17:31:06.950785",
     "exception": false,
     "start_time": "2023-01-18T17:31:06.682296",
     "status": "completed"
    },
    "tags": []
   },
   "outputs": [
    {
     "data": {
      "image/png": "[encoded data removed]",
      "text/plain": [
       "<Figure size 432x288 with 1 Axes>"
      ]
     },
     "metadata": {
      "needs_background": "light"
     },
     "output_type": "display_data"
    }
   ],
   "source": [
    "sns.regplot(x='pedigree', y='diabetes', data=diab_data, y_jitter=0.03,logistic=True, ci=None)\n",
    "plt.show()"
   ]
  },
  {
   "cell_type": "markdown",
   "id": "4b2830a4",
   "metadata": {
    "execution": {
     "iopub.execute_input": "2022-11-22T04:16:08.816538Z",
     "iopub.status.busy": "2022-11-22T04:16:08.815551Z",
     "iopub.status.idle": "2022-11-22T04:16:08.823720Z",
     "shell.execute_reply": "2022-11-22T04:16:08.822143Z",
     "shell.execute_reply.started": "2022-11-22T04:16:08.816492Z"
    },
    "papermill": {
     "duration": 0.014673,
     "end_time": "2023-01-18T17:31:06.981081",
     "exception": false,
     "start_time": "2023-01-18T17:31:06.966408",
     "status": "completed"
    },
    "tags": []
   },
   "source": [
    "<div style=\"color:white;\n",
    "           display:fill;\n",
    "           border-radius:5px;\n",
    "           background-color:orange;\n",
    "           font-size:120%;\n",
    "           font-family:Helvetica, Sans-Serif;\n",
    "           letter-spacing:0.5px\">\n",
    "\n",
    "<p style=\"padding: 10px;\n",
    "          text-align: center;\n",
    "          color:black;\">\n",
    "Let us now get the summary statistics of the different variables in the data set using the \"describe\" function\n",
    "\n",
    "</p>\n",
    "\n"
   ]
  },
  {
   "cell_type": "code",
   "execution_count": 9,
   "id": "6e439aab",
   "metadata": {
    "execution": {
     "iopub.execute_input": "2023-01-18T17:31:07.014584Z",
     "iopub.status.busy": "2023-01-18T17:31:07.013346Z",
     "iopub.status.idle": "2023-01-18T17:31:07.052269Z",
     "shell.execute_reply": "2023-01-18T17:31:07.051177Z"
    },
    "papermill": {
     "duration": 0.058386,
     "end_time": "2023-01-18T17:31:07.054648",
     "exception": false,
     "start_time": "2023-01-18T17:31:06.996262",
     "status": "completed"
    },
    "tags": []
   },
   "outputs": [
    {
     "data": {
      "text/html": [
       "<div>\n",
       "<style scoped>\n",
       "    .dataframe tbody tr th:only-of-type {\n",
       "        vertical-align: middle;\n",
       "    }\n",
       "\n",
       "    .dataframe tbody tr th {\n",
       "        vertical-align: top;\n",
       "    }\n",
       "\n",
       "    .dataframe thead th {\n",
       "        text-align: right;\n",
       "    }\n",
       "</style>\n",
       "<table border=\"1\" class=\"dataframe\">\n",
       "  <thead>\n",
       "    <tr style=\"text-align: right;\">\n",
       "      <th></th>\n",
       "      <th>pregnant</th>\n",
       "      <th>glucose</th>\n",
       "      <th>pressure</th>\n",
       "      <th>triceps</th>\n",
       "      <th>insulin</th>\n",
       "      <th>mass</th>\n",
       "      <th>pedigree</th>\n",
       "      <th>age</th>\n",
       "      <th>diabetes</th>\n",
       "    </tr>\n",
       "  </thead>\n",
       "  <tbody>\n",
       "    <tr>\n",
       "      <th>count</th>\n",
       "      <td>392.000000</td>\n",
       "      <td>392.000000</td>\n",
       "      <td>392.000000</td>\n",
       "      <td>392.000000</td>\n",
       "      <td>392.000000</td>\n",
       "      <td>392.000000</td>\n",
       "      <td>392.000000</td>\n",
       "      <td>392.000000</td>\n",
       "      <td>392.000000</td>\n",
       "    </tr>\n",
       "    <tr>\n",
       "      <th>mean</th>\n",
       "      <td>3.301020</td>\n",
       "      <td>122.627551</td>\n",
       "      <td>70.663265</td>\n",
       "      <td>29.145408</td>\n",
       "      <td>156.056122</td>\n",
       "      <td>33.086224</td>\n",
       "      <td>0.523046</td>\n",
       "      <td>30.864796</td>\n",
       "      <td>0.331633</td>\n",
       "    </tr>\n",
       "    <tr>\n",
       "      <th>std</th>\n",
       "      <td>3.211424</td>\n",
       "      <td>30.860781</td>\n",
       "      <td>12.496092</td>\n",
       "      <td>10.516424</td>\n",
       "      <td>118.841690</td>\n",
       "      <td>7.027659</td>\n",
       "      <td>0.345488</td>\n",
       "      <td>10.200777</td>\n",
       "      <td>0.471401</td>\n",
       "    </tr>\n",
       "    <tr>\n",
       "      <th>min</th>\n",
       "      <td>0.000000</td>\n",
       "      <td>56.000000</td>\n",
       "      <td>24.000000</td>\n",
       "      <td>7.000000</td>\n",
       "      <td>14.000000</td>\n",
       "      <td>18.200000</td>\n",
       "      <td>0.085000</td>\n",
       "      <td>21.000000</td>\n",
       "      <td>0.000000</td>\n",
       "    </tr>\n",
       "    <tr>\n",
       "      <th>25%</th>\n",
       "      <td>1.000000</td>\n",
       "      <td>99.000000</td>\n",
       "      <td>62.000000</td>\n",
       "      <td>21.000000</td>\n",
       "      <td>76.750000</td>\n",
       "      <td>28.400000</td>\n",
       "      <td>0.269750</td>\n",
       "      <td>23.000000</td>\n",
       "      <td>0.000000</td>\n",
       "    </tr>\n",
       "    <tr>\n",
       "      <th>50%</th>\n",
       "      <td>2.000000</td>\n",
       "      <td>119.000000</td>\n",
       "      <td>70.000000</td>\n",
       "      <td>29.000000</td>\n",
       "      <td>125.500000</td>\n",
       "      <td>33.200000</td>\n",
       "      <td>0.449500</td>\n",
       "      <td>27.000000</td>\n",
       "      <td>0.000000</td>\n",
       "    </tr>\n",
       "    <tr>\n",
       "      <th>75%</th>\n",
       "      <td>5.000000</td>\n",
       "      <td>143.000000</td>\n",
       "      <td>78.000000</td>\n",
       "      <td>37.000000</td>\n",
       "      <td>190.000000</td>\n",
       "      <td>37.100000</td>\n",
       "      <td>0.687000</td>\n",
       "      <td>36.000000</td>\n",
       "      <td>1.000000</td>\n",
       "    </tr>\n",
       "    <tr>\n",
       "      <th>max</th>\n",
       "      <td>17.000000</td>\n",
       "      <td>198.000000</td>\n",
       "      <td>110.000000</td>\n",
       "      <td>63.000000</td>\n",
       "      <td>846.000000</td>\n",
       "      <td>67.100000</td>\n",
       "      <td>2.420000</td>\n",
       "      <td>81.000000</td>\n",
       "      <td>1.000000</td>\n",
       "    </tr>\n",
       "  </tbody>\n",
       "</table>\n",
       "</div>"
      ],
      "text/plain": [
       "         pregnant     glucose    pressure     triceps     insulin        mass  \\\n",
       "count  392.000000  392.000000  392.000000  392.000000  392.000000  392.000000   \n",
       "mean     3.301020  122.627551   70.663265   29.145408  156.056122   33.086224   \n",
       "std      3.211424   30.860781   12.496092   10.516424  118.841690    7.027659   \n",
       "min      0.000000   56.000000   24.000000    7.000000   14.000000   18.200000   \n",
       "25%      1.000000   99.000000   62.000000   21.000000   76.750000   28.400000   \n",
       "50%      2.000000  119.000000   70.000000   29.000000  125.500000   33.200000   \n",
       "75%      5.000000  143.000000   78.000000   37.000000  190.000000   37.100000   \n",
       "max     17.000000  198.000000  110.000000   63.000000  846.000000   67.100000   \n",
       "\n",
       "         pedigree         age    diabetes  \n",
       "count  392.000000  392.000000  392.000000  \n",
       "mean     0.523046   30.864796    0.331633  \n",
       "std      0.345488   10.200777    0.471401  \n",
       "min      0.085000   21.000000    0.000000  \n",
       "25%      0.269750   23.000000    0.000000  \n",
       "50%      0.449500   27.000000    0.000000  \n",
       "75%      0.687000   36.000000    1.000000  \n",
       "max      2.420000   81.000000    1.000000  "
      ]
     },
     "execution_count": 9,
     "metadata": {},
     "output_type": "execute_result"
    }
   ],
   "source": [
    "diab_data.describe(include='all')"
   ]
  },
  {
   "cell_type": "markdown",
   "id": "6d420318",
   "metadata": {
    "papermill": {
     "duration": 0.014938,
     "end_time": "2023-01-18T17:31:07.085117",
     "exception": false,
     "start_time": "2023-01-18T17:31:07.070179",
     "status": "completed"
    },
    "tags": []
   },
   "source": [
    "<div style=\"color:white;\n",
    "           display:fill;\n",
    "           border-radius:5px;\n",
    "           background-color:#E35335;\n",
    "           font-size:100%;\n",
    "           font-family:Helvetica, Sans-Serif;\n",
    "           letter-spacing:0.5px\">\n",
    "<p style=\"padding:3px;\n",
    "          text-align: center;\n",
    "          font-size:100%;\n",
    "          color:black;\">          \n",
    "          <span style='font-size:30px;'>&#128221;</span> \n",
    "    Note: The variable/feature \"diabetes\" is recognized as \"object\".\n",
    "\n",
    "*Fitting a binary logistic regression model*\n",
    "    \n",
    "Let us first split the data into \"training data set\" and \"test data set\"\n",
    "    \n",
    "*We use 80% of the data for training set and 20% for test set. However, we can change this proportion to 70-30 or 75-25 also\n",
    "    \n",
    "*For splitting the data we use a function \"train_test_split\" from SciKit learn library function<span style='font-size:30px;'>&#128227;</span>\n",
    "</p>\n",
    "<style>\n",
    "        h1{text-align: center;}\n",
    " </style>  \n",
    "    \n",
    "</div>\n",
    " "
   ]
  },
  {
   "cell_type": "markdown",
   "id": "a8d84575",
   "metadata": {
    "papermill": {
     "duration": 0.014781,
     "end_time": "2023-01-18T17:31:07.115458",
     "exception": false,
     "start_time": "2023-01-18T17:31:07.100677",
     "status": "completed"
    },
    "tags": []
   },
   "source": [
    "<div style=\"color:white;\n",
    "           display:fill;\n",
    "           border-radius:5px;\n",
    "           background-color:orange;\n",
    "           font-size:120%;\n",
    "           font-family:Helvetica, Sans-Serif;\n",
    "           letter-spacing:0.5px\">\n",
    "\n",
    "<p style=\"padding: 10px;\n",
    "          text-align: center;\n",
    "          color:black;\">\n",
    "Importing train_test_split\n",
    "\n",
    "</p>"
   ]
  },
  {
   "cell_type": "code",
   "execution_count": 10,
   "id": "6d2b6c3d",
   "metadata": {
    "execution": {
     "iopub.execute_input": "2023-01-18T17:31:07.148552Z",
     "iopub.status.busy": "2023-01-18T17:31:07.147832Z",
     "iopub.status.idle": "2023-01-18T17:31:07.310853Z",
     "shell.execute_reply": "2023-01-18T17:31:07.309891Z"
    },
    "papermill": {
     "duration": 0.183081,
     "end_time": "2023-01-18T17:31:07.313781",
     "exception": false,
     "start_time": "2023-01-18T17:31:07.130700",
     "status": "completed"
    },
    "tags": []
   },
   "outputs": [],
   "source": [
    "from sklearn.model_selection import train_test_split"
   ]
  },
  {
   "cell_type": "markdown",
   "id": "b76f5e39",
   "metadata": {
    "papermill": {
     "duration": 0.014905,
     "end_time": "2023-01-18T17:31:07.344178",
     "exception": false,
     "start_time": "2023-01-18T17:31:07.329273",
     "status": "completed"
    },
    "tags": []
   },
   "source": [
    "<div style=\"color:white;\n",
    "           display:fill;\n",
    "           border-radius:5px;\n",
    "           background-color:orange;\n",
    "           font-size:120%;\n",
    "           font-family:Helvetica, Sans-Serif;\n",
    "           letter-spacing:0.5px\">\n",
    "\n",
    "<p style=\"padding: 10px;\n",
    "          text-align: center;\n",
    "          color:black;\">\n",
    "Defining train & test data\n",
    "\n",
    "</p>"
   ]
  },
  {
   "cell_type": "code",
   "execution_count": 11,
   "id": "5ea8aeae",
   "metadata": {
    "execution": {
     "iopub.execute_input": "2023-01-18T17:31:07.378357Z",
     "iopub.status.busy": "2023-01-18T17:31:07.377180Z",
     "iopub.status.idle": "2023-01-18T17:31:07.385954Z",
     "shell.execute_reply": "2023-01-18T17:31:07.384963Z"
    },
    "papermill": {
     "duration": 0.028702,
     "end_time": "2023-01-18T17:31:07.388492",
     "exception": false,
     "start_time": "2023-01-18T17:31:07.359790",
     "status": "completed"
    },
    "tags": []
   },
   "outputs": [],
   "source": [
    "train_data, test_data = train_test_split(diab_data, random_state=43, test_size=0.20)"
   ]
  },
  {
   "cell_type": "markdown",
   "id": "e18775d4",
   "metadata": {
    "papermill": {
     "duration": 0.01493,
     "end_time": "2023-01-18T17:31:07.418980",
     "exception": false,
     "start_time": "2023-01-18T17:31:07.404050",
     "status": "completed"
    },
    "tags": []
   },
   "source": [
    "<div style=\"color:white;\n",
    "           display:fill;\n",
    "           border-radius:5px;\n",
    "           background-color:orange;\n",
    "           font-size:120%;\n",
    "           font-family:Helvetica, Sans-Serif;\n",
    "           letter-spacing:0.5px\">\n",
    "\n",
    "<p style=\"padding: 10px;\n",
    "          text-align: center;\n",
    "          color:black;\">\n",
    "Checking head and shapes of train, test data\n",
    "\n",
    "</p>"
   ]
  },
  {
   "cell_type": "code",
   "execution_count": 12,
   "id": "c640a5be",
   "metadata": {
    "execution": {
     "iopub.execute_input": "2023-01-18T17:31:07.451475Z",
     "iopub.status.busy": "2023-01-18T17:31:07.451031Z",
     "iopub.status.idle": "2023-01-18T17:31:07.468324Z",
     "shell.execute_reply": "2023-01-18T17:31:07.464939Z"
    },
    "papermill": {
     "duration": 0.037268,
     "end_time": "2023-01-18T17:31:07.471531",
     "exception": false,
     "start_time": "2023-01-18T17:31:07.434263",
     "status": "completed"
    },
    "tags": []
   },
   "outputs": [
    {
     "data": {
      "text/html": [
       "<div>\n",
       "<style scoped>\n",
       "    .dataframe tbody tr th:only-of-type {\n",
       "        vertical-align: middle;\n",
       "    }\n",
       "\n",
       "    .dataframe tbody tr th {\n",
       "        vertical-align: top;\n",
       "    }\n",
       "\n",
       "    .dataframe thead th {\n",
       "        text-align: right;\n",
       "    }\n",
       "</style>\n",
       "<table border=\"1\" class=\"dataframe\">\n",
       "  <thead>\n",
       "    <tr style=\"text-align: right;\">\n",
       "      <th></th>\n",
       "      <th>pregnant</th>\n",
       "      <th>glucose</th>\n",
       "      <th>pressure</th>\n",
       "      <th>triceps</th>\n",
       "      <th>insulin</th>\n",
       "      <th>mass</th>\n",
       "      <th>pedigree</th>\n",
       "      <th>age</th>\n",
       "      <th>diabetes</th>\n",
       "    </tr>\n",
       "  </thead>\n",
       "  <tbody>\n",
       "    <tr>\n",
       "      <th>119</th>\n",
       "      <td>0</td>\n",
       "      <td>165</td>\n",
       "      <td>90</td>\n",
       "      <td>33</td>\n",
       "      <td>680</td>\n",
       "      <td>52.3</td>\n",
       "      <td>0.427</td>\n",
       "      <td>23</td>\n",
       "      <td>0</td>\n",
       "    </tr>\n",
       "    <tr>\n",
       "      <th>236</th>\n",
       "      <td>9</td>\n",
       "      <td>120</td>\n",
       "      <td>72</td>\n",
       "      <td>22</td>\n",
       "      <td>56</td>\n",
       "      <td>20.8</td>\n",
       "      <td>0.733</td>\n",
       "      <td>48</td>\n",
       "      <td>0</td>\n",
       "    </tr>\n",
       "    <tr>\n",
       "      <th>26</th>\n",
       "      <td>0</td>\n",
       "      <td>100</td>\n",
       "      <td>88</td>\n",
       "      <td>60</td>\n",
       "      <td>110</td>\n",
       "      <td>46.8</td>\n",
       "      <td>0.962</td>\n",
       "      <td>31</td>\n",
       "      <td>0</td>\n",
       "    </tr>\n",
       "    <tr>\n",
       "      <th>356</th>\n",
       "      <td>7</td>\n",
       "      <td>129</td>\n",
       "      <td>68</td>\n",
       "      <td>49</td>\n",
       "      <td>125</td>\n",
       "      <td>38.5</td>\n",
       "      <td>0.439</td>\n",
       "      <td>43</td>\n",
       "      <td>1</td>\n",
       "    </tr>\n",
       "    <tr>\n",
       "      <th>221</th>\n",
       "      <td>3</td>\n",
       "      <td>89</td>\n",
       "      <td>74</td>\n",
       "      <td>16</td>\n",
       "      <td>85</td>\n",
       "      <td>30.4</td>\n",
       "      <td>0.551</td>\n",
       "      <td>38</td>\n",
       "      <td>0</td>\n",
       "    </tr>\n",
       "  </tbody>\n",
       "</table>\n",
       "</div>"
      ],
      "text/plain": [
       "     pregnant  glucose  pressure  triceps  insulin  mass  pedigree  age  \\\n",
       "119         0      165        90       33      680  52.3     0.427   23   \n",
       "236         9      120        72       22       56  20.8     0.733   48   \n",
       "26          0      100        88       60      110  46.8     0.962   31   \n",
       "356         7      129        68       49      125  38.5     0.439   43   \n",
       "221         3       89        74       16       85  30.4     0.551   38   \n",
       "\n",
       "     diabetes  \n",
       "119         0  \n",
       "236         0  \n",
       "26          0  \n",
       "356         1  \n",
       "221         0  "
      ]
     },
     "execution_count": 12,
     "metadata": {},
     "output_type": "execute_result"
    }
   ],
   "source": [
    "train_data.head()"
   ]
  },
  {
   "cell_type": "code",
   "execution_count": 13,
   "id": "95b207ff",
   "metadata": {
    "execution": {
     "iopub.execute_input": "2023-01-18T17:31:07.513423Z",
     "iopub.status.busy": "2023-01-18T17:31:07.512405Z",
     "iopub.status.idle": "2023-01-18T17:31:07.532296Z",
     "shell.execute_reply": "2023-01-18T17:31:07.530941Z"
    },
    "papermill": {
     "duration": 0.043991,
     "end_time": "2023-01-18T17:31:07.535244",
     "exception": false,
     "start_time": "2023-01-18T17:31:07.491253",
     "status": "completed"
    },
    "tags": []
   },
   "outputs": [
    {
     "data": {
      "text/html": [
       "<div>\n",
       "<style scoped>\n",
       "    .dataframe tbody tr th:only-of-type {\n",
       "        vertical-align: middle;\n",
       "    }\n",
       "\n",
       "    .dataframe tbody tr th {\n",
       "        vertical-align: top;\n",
       "    }\n",
       "\n",
       "    .dataframe thead th {\n",
       "        text-align: right;\n",
       "    }\n",
       "</style>\n",
       "<table border=\"1\" class=\"dataframe\">\n",
       "  <thead>\n",
       "    <tr style=\"text-align: right;\">\n",
       "      <th></th>\n",
       "      <th>pregnant</th>\n",
       "      <th>glucose</th>\n",
       "      <th>pressure</th>\n",
       "      <th>triceps</th>\n",
       "      <th>insulin</th>\n",
       "      <th>mass</th>\n",
       "      <th>pedigree</th>\n",
       "      <th>age</th>\n",
       "      <th>diabetes</th>\n",
       "    </tr>\n",
       "  </thead>\n",
       "  <tbody>\n",
       "    <tr>\n",
       "      <th>102</th>\n",
       "      <td>9</td>\n",
       "      <td>112</td>\n",
       "      <td>82</td>\n",
       "      <td>32</td>\n",
       "      <td>175</td>\n",
       "      <td>34.2</td>\n",
       "      <td>0.260</td>\n",
       "      <td>36</td>\n",
       "      <td>1</td>\n",
       "    </tr>\n",
       "    <tr>\n",
       "      <th>210</th>\n",
       "      <td>0</td>\n",
       "      <td>138</td>\n",
       "      <td>60</td>\n",
       "      <td>35</td>\n",
       "      <td>167</td>\n",
       "      <td>34.6</td>\n",
       "      <td>0.534</td>\n",
       "      <td>21</td>\n",
       "      <td>1</td>\n",
       "    </tr>\n",
       "    <tr>\n",
       "      <th>136</th>\n",
       "      <td>1</td>\n",
       "      <td>119</td>\n",
       "      <td>86</td>\n",
       "      <td>39</td>\n",
       "      <td>220</td>\n",
       "      <td>45.6</td>\n",
       "      <td>0.808</td>\n",
       "      <td>29</td>\n",
       "      <td>1</td>\n",
       "    </tr>\n",
       "    <tr>\n",
       "      <th>64</th>\n",
       "      <td>2</td>\n",
       "      <td>125</td>\n",
       "      <td>60</td>\n",
       "      <td>20</td>\n",
       "      <td>140</td>\n",
       "      <td>33.8</td>\n",
       "      <td>0.088</td>\n",
       "      <td>31</td>\n",
       "      <td>0</td>\n",
       "    </tr>\n",
       "    <tr>\n",
       "      <th>208</th>\n",
       "      <td>1</td>\n",
       "      <td>143</td>\n",
       "      <td>84</td>\n",
       "      <td>23</td>\n",
       "      <td>310</td>\n",
       "      <td>42.4</td>\n",
       "      <td>1.076</td>\n",
       "      <td>22</td>\n",
       "      <td>0</td>\n",
       "    </tr>\n",
       "  </tbody>\n",
       "</table>\n",
       "</div>"
      ],
      "text/plain": [
       "     pregnant  glucose  pressure  triceps  insulin  mass  pedigree  age  \\\n",
       "102         9      112        82       32      175  34.2     0.260   36   \n",
       "210         0      138        60       35      167  34.6     0.534   21   \n",
       "136         1      119        86       39      220  45.6     0.808   29   \n",
       "64          2      125        60       20      140  33.8     0.088   31   \n",
       "208         1      143        84       23      310  42.4     1.076   22   \n",
       "\n",
       "     diabetes  \n",
       "102         1  \n",
       "210         1  \n",
       "136         1  \n",
       "64          0  \n",
       "208         0  "
      ]
     },
     "execution_count": 13,
     "metadata": {},
     "output_type": "execute_result"
    }
   ],
   "source": [
    "test_data.head()"
   ]
  },
  {
   "cell_type": "code",
   "execution_count": 14,
   "id": "0d077c11",
   "metadata": {
    "execution": {
     "iopub.execute_input": "2023-01-18T17:31:07.578970Z",
     "iopub.status.busy": "2023-01-18T17:31:07.578358Z",
     "iopub.status.idle": "2023-01-18T17:31:07.585711Z",
     "shell.execute_reply": "2023-01-18T17:31:07.584534Z"
    },
    "papermill": {
     "duration": 0.030684,
     "end_time": "2023-01-18T17:31:07.587941",
     "exception": false,
     "start_time": "2023-01-18T17:31:07.557257",
     "status": "completed"
    },
    "tags": []
   },
   "outputs": [
    {
     "data": {
      "text/plain": [
       "(313, 9)"
      ]
     },
     "execution_count": 14,
     "metadata": {},
     "output_type": "execute_result"
    }
   ],
   "source": [
    "train_data.shape"
   ]
  },
  {
   "cell_type": "code",
   "execution_count": 15,
   "id": "889feabf",
   "metadata": {
    "execution": {
     "iopub.execute_input": "2023-01-18T17:31:07.621813Z",
     "iopub.status.busy": "2023-01-18T17:31:07.621333Z",
     "iopub.status.idle": "2023-01-18T17:31:07.628031Z",
     "shell.execute_reply": "2023-01-18T17:31:07.627012Z"
    },
    "papermill": {
     "duration": 0.026023,
     "end_time": "2023-01-18T17:31:07.630233",
     "exception": false,
     "start_time": "2023-01-18T17:31:07.604210",
     "status": "completed"
    },
    "tags": []
   },
   "outputs": [
    {
     "data": {
      "text/plain": [
       "(79, 9)"
      ]
     },
     "execution_count": 15,
     "metadata": {},
     "output_type": "execute_result"
    }
   ],
   "source": [
    "test_data.shape"
   ]
  },
  {
   "cell_type": "markdown",
   "id": "d53b54b4",
   "metadata": {
    "papermill": {
     "duration": 0.015146,
     "end_time": "2023-01-18T17:31:07.660998",
     "exception": false,
     "start_time": "2023-01-18T17:31:07.645852",
     "status": "completed"
    },
    "tags": []
   },
   "source": [
    "<div style=\"color:white;\n",
    "           display:fill;\n",
    "           border-radius:5px;\n",
    "           background-color:orange;\n",
    "           font-size:130%;\n",
    "           font-family:Helvetica, Sans-Serif;\n",
    "           letter-spacing:0.5px\">\n",
    "\n",
    "<p style=\"padding: 10px;\n",
    "          text-align: center;\n",
    "          color:black;\">\n",
    "Fitting a binary logistic regression model\n",
    "\n",
    "</p>"
   ]
  },
  {
   "cell_type": "code",
   "execution_count": 16,
   "id": "5ccff59d",
   "metadata": {
    "execution": {
     "iopub.execute_input": "2023-01-18T17:31:07.694889Z",
     "iopub.status.busy": "2023-01-18T17:31:07.694115Z",
     "iopub.status.idle": "2023-01-18T17:31:08.199266Z",
     "shell.execute_reply": "2023-01-18T17:31:08.197184Z"
    },
    "papermill": {
     "duration": 0.527195,
     "end_time": "2023-01-18T17:31:08.204205",
     "exception": false,
     "start_time": "2023-01-18T17:31:07.677010",
     "status": "completed"
    },
    "tags": []
   },
   "outputs": [
    {
     "name": "stdout",
     "output_type": "stream",
     "text": [
      "Optimization terminated successfully.\n",
      "         Current function value: 0.435947\n",
      "         Iterations 7\n"
     ]
    }
   ],
   "source": [
    "import statsmodels.api as sm\n",
    "from statsmodels.formula.api import logit\n",
    "\n",
    "diab_formula = ('diabetes ~ pregnant + glucose + pressure + triceps + insulin + mass + pedigree + age')\n",
    "\n",
    "diab_model = logit(formula=diab_formula, data=train_data).fit()"
   ]
  },
  {
   "cell_type": "markdown",
   "id": "177479a3",
   "metadata": {
    "papermill": {
     "duration": 0.040657,
     "end_time": "2023-01-18T17:31:08.288144",
     "exception": false,
     "start_time": "2023-01-18T17:31:08.247487",
     "status": "completed"
    },
    "tags": []
   },
   "source": [
    "<div style=\"color:white;\n",
    "           display:fill;\n",
    "           border-radius:5px;\n",
    "           background-color:orange;\n",
    "           font-size:120%;\n",
    "           font-family:Helvetica, Sans-Serif;\n",
    "           letter-spacing:0.5px\">\n",
    "\n",
    "<p style=\"padding: 10px;\n",
    "          text-align: center;\n",
    "          color:black;\">\n",
    "Getting the summary of the model\n",
    "\n",
    "</p>"
   ]
  },
  {
   "cell_type": "code",
   "execution_count": 17,
   "id": "78b114ae",
   "metadata": {
    "execution": {
     "iopub.execute_input": "2023-01-18T17:31:08.338119Z",
     "iopub.status.busy": "2023-01-18T17:31:08.337700Z",
     "iopub.status.idle": "2023-01-18T17:31:08.357586Z",
     "shell.execute_reply": "2023-01-18T17:31:08.356077Z"
    },
    "papermill": {
     "duration": 0.04009,
     "end_time": "2023-01-18T17:31:08.360066",
     "exception": false,
     "start_time": "2023-01-18T17:31:08.319976",
     "status": "completed"
    },
    "tags": []
   },
   "outputs": [
    {
     "name": "stdout",
     "output_type": "stream",
     "text": [
      "                           Logit Regression Results                           \n",
      "==============================================================================\n",
      "Dep. Variable:               diabetes   No. Observations:                  313\n",
      "Model:                          Logit   Df Residuals:                      304\n",
      "Method:                           MLE   Df Model:                            8\n",
      "Date:                Wed, 18 Jan 2023   Pseudo R-squ.:                  0.3190\n",
      "Time:                        17:31:08   Log-Likelihood:                -136.45\n",
      "converged:                       True   LL-Null:                       -200.36\n",
      "Covariance Type:            nonrobust   LLR p-value:                 7.982e-24\n",
      "==============================================================================\n",
      "                 coef    std err          z      P>|z|      [0.025      0.975]\n",
      "------------------------------------------------------------------------------\n",
      "Intercept     -9.9860      1.367     -7.303      0.000     -12.666      -7.306\n",
      "pregnant       0.1376      0.062      2.231      0.026       0.017       0.258\n",
      "glucose        0.0401      0.006      6.200      0.000       0.027       0.053\n",
      "pressure       0.0040      0.014      0.289      0.772      -0.023       0.031\n",
      "triceps       -0.0063      0.019     -0.324      0.746      -0.044       0.032\n",
      "insulin       -0.0012      0.001     -0.862      0.389      -0.004       0.002\n",
      "mass           0.0728      0.030      2.412      0.016       0.014       0.132\n",
      "pedigree       0.9803      0.469      2.092      0.036       0.062       1.899\n",
      "age            0.0239      0.020      1.182      0.237      -0.016       0.064\n",
      "==============================================================================\n"
     ]
    }
   ],
   "source": [
    "print(diab_model.summary())"
   ]
  },
  {
   "cell_type": "markdown",
   "id": "3261dbb0",
   "metadata": {
    "papermill": {
     "duration": 0.016051,
     "end_time": "2023-01-18T17:31:08.392729",
     "exception": false,
     "start_time": "2023-01-18T17:31:08.376678",
     "status": "completed"
    },
    "tags": []
   },
   "source": [
    "<div style=\"color:white;\n",
    "           display:fill;\n",
    "           border-radius:5px;\n",
    "           background-color:orange;\n",
    "           font-size:120%;\n",
    "           font-family:Helvetica, Sans-Serif;\n",
    "           letter-spacing:0.5px\">\n",
    "\n",
    "<p style=\"padding: 10px;\n",
    "          text-align: center;\n",
    "          color:black;\">\n",
    "Getting the Odds Ratio (OR)\n",
    "\n",
    "</p>"
   ]
  },
  {
   "cell_type": "code",
   "execution_count": 18,
   "id": "291c903b",
   "metadata": {
    "execution": {
     "iopub.execute_input": "2023-01-18T17:31:08.429102Z",
     "iopub.status.busy": "2023-01-18T17:31:08.428202Z",
     "iopub.status.idle": "2023-01-18T17:31:08.437926Z",
     "shell.execute_reply": "2023-01-18T17:31:08.436660Z"
    },
    "papermill": {
     "duration": 0.031561,
     "end_time": "2023-01-18T17:31:08.440519",
     "exception": false,
     "start_time": "2023-01-18T17:31:08.408958",
     "status": "completed"
    },
    "tags": []
   },
   "outputs": [
    {
     "name": "stdout",
     "output_type": "stream",
     "text": [
      "Intercept    0.000046\n",
      "pregnant     1.147497\n",
      "glucose      1.040896\n",
      "pressure     1.004025\n",
      "triceps      0.993745\n",
      "insulin      0.998820\n",
      "mass         1.075494\n",
      "pedigree     2.665305\n",
      "age          1.024191\n",
      "dtype: float64\n"
     ]
    }
   ],
   "source": [
    "print(np.exp(diab_model.params))"
   ]
  },
  {
   "cell_type": "markdown",
   "id": "720ca523",
   "metadata": {
    "papermill": {
     "duration": 0.015927,
     "end_time": "2023-01-18T17:31:08.472985",
     "exception": false,
     "start_time": "2023-01-18T17:31:08.457058",
     "status": "completed"
    },
    "tags": []
   },
   "source": [
    "<div style=\"color:white;\n",
    "           display:fill;\n",
    "           border-radius:5px;\n",
    "           background-color:#E35335;\n",
    "           font-size:100%;\n",
    "           font-family:Helvetica, Sans-Serif;\n",
    "           letter-spacing:0.5px\">\n",
    "<p style=\"padding:3px;\n",
    "          text-align: center;\n",
    "          font-size:100%;\n",
    "          color:black;\">          \n",
    "          <span style='font-size:30px;'>&#128221;</span> \n",
    "    Fitting a binary logistic regression model.\n",
    "\n",
    "*   We evaluate the model by applying it on **test** data \n",
    "*   For this purpose we use some packages from SciKit learn<span style='font-size:30px;'>&#128227;</span>\n",
    "</p>\n",
    "<style>\n",
    "        h1{text-align: center;}\n",
    " </style>  \n",
    "    \n",
    "</div>\n",
    "\n",
    "\n",
    "\n"
   ]
  },
  {
   "cell_type": "markdown",
   "id": "d06878ee",
   "metadata": {
    "papermill": {
     "duration": 0.015629,
     "end_time": "2023-01-18T17:31:08.504877",
     "exception": false,
     "start_time": "2023-01-18T17:31:08.489248",
     "status": "completed"
    },
    "tags": []
   },
   "source": [
    "<div style=\"color:white;\n",
    "           display:fill;\n",
    "           border-radius:5px;\n",
    "           background-color:orange;\n",
    "           font-size:120%;\n",
    "           font-family:Helvetica, Sans-Serif;\n",
    "           letter-spacing:0.5px\">\n",
    "\n",
    "<p style=\"padding: 10px;\n",
    "          text-align: center;\n",
    "          color:black;\">\n",
    "Importing classification_report, accuracy_score, roc_auc_score\n",
    "\n",
    "</p>"
   ]
  },
  {
   "cell_type": "code",
   "execution_count": 19,
   "id": "1fa8dc9d",
   "metadata": {
    "execution": {
     "iopub.execute_input": "2023-01-18T17:31:08.539050Z",
     "iopub.status.busy": "2023-01-18T17:31:08.538510Z",
     "iopub.status.idle": "2023-01-18T17:31:08.544134Z",
     "shell.execute_reply": "2023-01-18T17:31:08.542794Z"
    },
    "papermill": {
     "duration": 0.025457,
     "end_time": "2023-01-18T17:31:08.546475",
     "exception": false,
     "start_time": "2023-01-18T17:31:08.521018",
     "status": "completed"
    },
    "tags": []
   },
   "outputs": [],
   "source": [
    "from sklearn.metrics import classification_report, accuracy_score, roc_auc_score"
   ]
  },
  {
   "cell_type": "markdown",
   "id": "fabf9bcf",
   "metadata": {
    "papermill": {
     "duration": 0.016421,
     "end_time": "2023-01-18T17:31:08.579642",
     "exception": false,
     "start_time": "2023-01-18T17:31:08.563221",
     "status": "completed"
    },
    "tags": []
   },
   "source": [
    "<div style=\"color:white;\n",
    "           display:fill;\n",
    "           border-radius:5px;\n",
    "           background-color:orange;\n",
    "           font-size:120%;\n",
    "           font-family:Helvetica, Sans-Serif;\n",
    "           letter-spacing:0.5px\">\n",
    "\n",
    "<p style=\"padding: 10px;\n",
    "          text-align: center;\n",
    "          color:black;\">\n",
    "Applying the model on test data, getting the predictions and storing it in a variable called \"predicted_prob\"\n",
    "\n",
    "</p>"
   ]
  },
  {
   "cell_type": "code",
   "execution_count": 20,
   "id": "82d06af8",
   "metadata": {
    "execution": {
     "iopub.execute_input": "2023-01-18T17:31:08.615306Z",
     "iopub.status.busy": "2023-01-18T17:31:08.614833Z",
     "iopub.status.idle": "2023-01-18T17:31:08.632774Z",
     "shell.execute_reply": "2023-01-18T17:31:08.631428Z"
    },
    "papermill": {
     "duration": 0.038809,
     "end_time": "2023-01-18T17:31:08.635321",
     "exception": false,
     "start_time": "2023-01-18T17:31:08.596512",
     "status": "completed"
    },
    "tags": []
   },
   "outputs": [],
   "source": [
    "predicted_prob = diab_model.predict(exog = test_data)"
   ]
  },
  {
   "cell_type": "code",
   "execution_count": 21,
   "id": "07a26ea6",
   "metadata": {
    "execution": {
     "iopub.execute_input": "2023-01-18T17:31:08.671687Z",
     "iopub.status.busy": "2023-01-18T17:31:08.670418Z",
     "iopub.status.idle": "2023-01-18T17:31:08.680307Z",
     "shell.execute_reply": "2023-01-18T17:31:08.679485Z"
    },
    "papermill": {
     "duration": 0.029898,
     "end_time": "2023-01-18T17:31:08.682360",
     "exception": false,
     "start_time": "2023-01-18T17:31:08.652462",
     "status": "completed"
    },
    "tags": []
   },
   "outputs": [
    {
     "data": {
      "text/plain": [
       "102    0.324732\n",
       "210    0.252218\n",
       "136    0.393269\n",
       "64     0.187987\n",
       "208    0.593146\n",
       "         ...   \n",
       "243    0.189257\n",
       "139    0.042196\n",
       "375    0.844057\n",
       "302    0.906433\n",
       "140    0.151823\n",
       "Length: 79, dtype: float64"
      ]
     },
     "execution_count": 21,
     "metadata": {},
     "output_type": "execute_result"
    }
   ],
   "source": [
    "predicted_prob"
   ]
  },
  {
   "cell_type": "markdown",
   "id": "efe6323c",
   "metadata": {
    "papermill": {
     "duration": 0.016279,
     "end_time": "2023-01-18T17:31:08.715668",
     "exception": false,
     "start_time": "2023-01-18T17:31:08.699389",
     "status": "completed"
    },
    "tags": []
   },
   "source": [
    "<div style=\"color:white;\n",
    "           display:fill;\n",
    "           border-radius:5px;\n",
    "           background-color:orange;\n",
    "           font-size:120%;\n",
    "           font-family:Helvetica, Sans-Serif;\n",
    "           letter-spacing:0.5px\">\n",
    "\n",
    "<p style=\"padding: 10px;\n",
    "          text-align: center;\n",
    "          color:black;\">\n",
    "Let us define the cut-off for the predicted probabilities - Let us start with 0.5(and then change it as required)\n",
    "\n",
    "</p>"
   ]
  },
  {
   "cell_type": "code",
   "execution_count": 22,
   "id": "efd7e574",
   "metadata": {
    "execution": {
     "iopub.execute_input": "2023-01-18T17:31:08.750733Z",
     "iopub.status.busy": "2023-01-18T17:31:08.750228Z",
     "iopub.status.idle": "2023-01-18T17:31:08.754966Z",
     "shell.execute_reply": "2023-01-18T17:31:08.753987Z"
    },
    "papermill": {
     "duration": 0.024909,
     "end_time": "2023-01-18T17:31:08.757123",
     "exception": false,
     "start_time": "2023-01-18T17:31:08.732214",
     "status": "completed"
    },
    "tags": []
   },
   "outputs": [],
   "source": [
    "cutoff = 0.5"
   ]
  },
  {
   "cell_type": "markdown",
   "id": "42c01079",
   "metadata": {
    "papermill": {
     "duration": 0.016161,
     "end_time": "2023-01-18T17:31:08.789866",
     "exception": false,
     "start_time": "2023-01-18T17:31:08.773705",
     "status": "completed"
    },
    "tags": []
   },
   "source": [
    "<div style=\"color:white;\n",
    "           display:fill;\n",
    "           border-radius:5px;\n",
    "           background-color:orange;\n",
    "           font-size:120%;\n",
    "           font-family:Helvetica, Sans-Serif;\n",
    "           letter-spacing:0.5px\">\n",
    "\n",
    "<p style=\"padding: 10px;\n",
    "          text-align: center;\n",
    "          color:black;\">\n",
    "Compute predicted class/group based on cut-off and store it in a variable called \"diab_predicted\"\n",
    "\n",
    "\n",
    "</p>"
   ]
  },
  {
   "cell_type": "code",
   "execution_count": 23,
   "id": "dce6dff1",
   "metadata": {
    "execution": {
     "iopub.execute_input": "2023-01-18T17:31:08.824793Z",
     "iopub.status.busy": "2023-01-18T17:31:08.824283Z",
     "iopub.status.idle": "2023-01-18T17:31:08.830038Z",
     "shell.execute_reply": "2023-01-18T17:31:08.828909Z"
    },
    "papermill": {
     "duration": 0.025802,
     "end_time": "2023-01-18T17:31:08.832173",
     "exception": false,
     "start_time": "2023-01-18T17:31:08.806371",
     "status": "completed"
    },
    "tags": []
   },
   "outputs": [],
   "source": [
    "diab_predicted = np.where(predicted_prob > cutoff, 1, 0)"
   ]
  },
  {
   "cell_type": "code",
   "execution_count": 24,
   "id": "a7c9eb04",
   "metadata": {
    "execution": {
     "iopub.execute_input": "2023-01-18T17:31:08.868883Z",
     "iopub.status.busy": "2023-01-18T17:31:08.868202Z",
     "iopub.status.idle": "2023-01-18T17:31:08.877884Z",
     "shell.execute_reply": "2023-01-18T17:31:08.876477Z"
    },
    "papermill": {
     "duration": 0.033549,
     "end_time": "2023-01-18T17:31:08.882371",
     "exception": false,
     "start_time": "2023-01-18T17:31:08.848822",
     "status": "completed"
    },
    "tags": []
   },
   "outputs": [
    {
     "data": {
      "text/plain": [
       "array([0, 0, 0, 0, 1, 0, 0, 0, 0, 0, 0, 1, 0, 0, 0, 0, 0, 0, 0, 0, 0, 1,\n",
       "       0, 0, 1, 0, 0, 1, 0, 0, 1, 0, 0, 0, 0, 0, 0, 1, 1, 0, 0, 0, 0, 0,\n",
       "       0, 0, 0, 0, 1, 0, 0, 0, 1, 0, 0, 0, 0, 1, 0, 0, 0, 0, 0, 0, 0, 0,\n",
       "       0, 0, 0, 0, 0, 0, 0, 0, 0, 0, 1, 1, 0])"
      ]
     },
     "execution_count": 24,
     "metadata": {},
     "output_type": "execute_result"
    }
   ],
   "source": [
    "diab_predicted"
   ]
  },
  {
   "cell_type": "markdown",
   "id": "7cd41254",
   "metadata": {
    "papermill": {
     "duration": 0.024029,
     "end_time": "2023-01-18T17:31:08.926132",
     "exception": false,
     "start_time": "2023-01-18T17:31:08.902103",
     "status": "completed"
    },
    "tags": []
   },
   "source": [
    "<div style=\"color:white;\n",
    "           display:fill;\n",
    "           border-radius:5px;\n",
    "           background-color:orange;\n",
    "           font-size:120%;\n",
    "           font-family:Helvetica, Sans-Serif;\n",
    "           letter-spacing:0.5px\">\n",
    "\n",
    "<p style=\"padding: 10px;\n",
    "          text-align: center;\n",
    "          color:black;\">\n",
    "Assigning the original/actual values from the test sample to diab_actual\n",
    "\n",
    "\n",
    "</p>"
   ]
  },
  {
   "cell_type": "code",
   "execution_count": 25,
   "id": "de7d6218",
   "metadata": {
    "execution": {
     "iopub.execute_input": "2023-01-18T17:31:08.963552Z",
     "iopub.status.busy": "2023-01-18T17:31:08.963147Z",
     "iopub.status.idle": "2023-01-18T17:31:08.970544Z",
     "shell.execute_reply": "2023-01-18T17:31:08.969378Z"
    },
    "papermill": {
     "duration": 0.03001,
     "end_time": "2023-01-18T17:31:08.973795",
     "exception": false,
     "start_time": "2023-01-18T17:31:08.943785",
     "status": "completed"
    },
    "tags": []
   },
   "outputs": [],
   "source": [
    "diab_actual = test_data['diabetes']"
   ]
  },
  {
   "cell_type": "markdown",
   "id": "6c943d5c",
   "metadata": {
    "papermill": {
     "duration": 0.017427,
     "end_time": "2023-01-18T17:31:09.013271",
     "exception": false,
     "start_time": "2023-01-18T17:31:08.995844",
     "status": "completed"
    },
    "tags": []
   },
   "source": [
    "<div style=\"color:white;\n",
    "           display:fill;\n",
    "           border-radius:5px;\n",
    "           background-color:orange;\n",
    "           font-size:120%;\n",
    "           font-family:Helvetica, Sans-Serif;\n",
    "           letter-spacing:0.5px\">\n",
    "\n",
    "<p style=\"padding: 10px;\n",
    "          text-align: center;\n",
    "          color:black;\">\n",
    "Compute and print confusion matrix using crosstab function\n",
    "\n",
    "\n",
    "</p>"
   ]
  },
  {
   "cell_type": "code",
   "execution_count": 26,
   "id": "41c649c0",
   "metadata": {
    "execution": {
     "iopub.execute_input": "2023-01-18T17:31:09.050478Z",
     "iopub.status.busy": "2023-01-18T17:31:09.049918Z",
     "iopub.status.idle": "2023-01-18T17:31:09.098291Z",
     "shell.execute_reply": "2023-01-18T17:31:09.097232Z"
    },
    "papermill": {
     "duration": 0.070217,
     "end_time": "2023-01-18T17:31:09.101242",
     "exception": false,
     "start_time": "2023-01-18T17:31:09.031025",
     "status": "completed"
    },
    "tags": []
   },
   "outputs": [],
   "source": [
    "conf_matrix = pd.crosstab(diab_actual, diab_predicted, \n",
    "                          rownames =['actual'],\n",
    "                          colnames=['predicted'],\n",
    "                          margins=True)"
   ]
  },
  {
   "cell_type": "markdown",
   "id": "db787e56",
   "metadata": {
    "papermill": {
     "duration": 0.016117,
     "end_time": "2023-01-18T17:31:09.134285",
     "exception": false,
     "start_time": "2023-01-18T17:31:09.118168",
     "status": "completed"
    },
    "tags": []
   },
   "source": [
    "<div style=\"color:white;\n",
    "           display:fill;\n",
    "           border-radius:5px;\n",
    "           background-color:orange;\n",
    "           font-size:120%;\n",
    "           font-family:Helvetica, Sans-Serif;\n",
    "           letter-spacing:0.5px\">\n",
    "\n",
    "<p style=\"padding: 10px;\n",
    "          text-align: center;\n",
    "          color:black;\">\n",
    "Printing the confusion matrix\n",
    "\n",
    "\n",
    "</p>"
   ]
  },
  {
   "cell_type": "code",
   "execution_count": 27,
   "id": "dcf858dd",
   "metadata": {
    "execution": {
     "iopub.execute_input": "2023-01-18T17:31:09.169492Z",
     "iopub.status.busy": "2023-01-18T17:31:09.168961Z",
     "iopub.status.idle": "2023-01-18T17:31:09.177916Z",
     "shell.execute_reply": "2023-01-18T17:31:09.176687Z"
    },
    "papermill": {
     "duration": 0.029525,
     "end_time": "2023-01-18T17:31:09.180341",
     "exception": false,
     "start_time": "2023-01-18T17:31:09.150816",
     "status": "completed"
    },
    "tags": []
   },
   "outputs": [
    {
     "name": "stdout",
     "output_type": "stream",
     "text": [
      "predicted   0   1  All\n",
      "actual                \n",
      "0          51   4   55\n",
      "1          15   9   24\n",
      "All        66  13   79\n"
     ]
    }
   ],
   "source": [
    "print(conf_matrix)"
   ]
  },
  {
   "cell_type": "markdown",
   "id": "85db8ac4",
   "metadata": {
    "papermill": {
     "duration": 0.017276,
     "end_time": "2023-01-18T17:31:09.214203",
     "exception": false,
     "start_time": "2023-01-18T17:31:09.196927",
     "status": "completed"
    },
    "tags": []
   },
   "source": [
    "<div style=\"color:white;\n",
    "           display:fill;\n",
    "           border-radius:5px;\n",
    "           background-color:orange;\n",
    "           font-size:130%;\n",
    "           font-family:Helvetica, Sans-Serif;\n",
    "           letter-spacing:0.5px\">\n",
    "\n",
    "<p style=\"padding: 10px;\n",
    "          text-align: center;\n",
    "          color:black;\">\n",
    "Classification Accuracy\n",
    "\n",
    "\n",
    "</p>"
   ]
  },
  {
   "cell_type": "code",
   "execution_count": 28,
   "id": "5583d107",
   "metadata": {
    "execution": {
     "iopub.execute_input": "2023-01-18T17:31:09.261458Z",
     "iopub.status.busy": "2023-01-18T17:31:09.260580Z",
     "iopub.status.idle": "2023-01-18T17:31:09.268017Z",
     "shell.execute_reply": "2023-01-18T17:31:09.266679Z"
    },
    "papermill": {
     "duration": 0.034377,
     "end_time": "2023-01-18T17:31:09.270273",
     "exception": false,
     "start_time": "2023-01-18T17:31:09.235896",
     "status": "completed"
    },
    "tags": []
   },
   "outputs": [
    {
     "name": "stdout",
     "output_type": "stream",
     "text": [
      "0.759493670886076\n"
     ]
    }
   ],
   "source": [
    "accuracy = accuracy_score(diab_actual, diab_predicted)\n",
    "\n",
    "print(accuracy)"
   ]
  },
  {
   "cell_type": "markdown",
   "id": "31c6da83",
   "metadata": {
    "papermill": {
     "duration": 0.016597,
     "end_time": "2023-01-18T17:31:09.304057",
     "exception": false,
     "start_time": "2023-01-18T17:31:09.287460",
     "status": "completed"
    },
    "tags": []
   },
   "source": [
    "<div style=\"color:white;\n",
    "           display:fill;\n",
    "           border-radius:5px;\n",
    "           background-color:orange;\n",
    "           font-size:120%;\n",
    "           font-family:Helvetica, Sans-Serif;\n",
    "           letter-spacing:0.5px\">\n",
    "\n",
    "<p style=\"padding: 10px;\n",
    "          text-align: center;\n",
    "          color:black;\">\n",
    "Getting accuracy in %\n",
    "\n",
    "\n",
    "</p>"
   ]
  },
  {
   "cell_type": "code",
   "execution_count": 29,
   "id": "dcac31d2",
   "metadata": {
    "execution": {
     "iopub.execute_input": "2023-01-18T17:31:09.340487Z",
     "iopub.status.busy": "2023-01-18T17:31:09.339697Z",
     "iopub.status.idle": "2023-01-18T17:31:09.346421Z",
     "shell.execute_reply": "2023-01-18T17:31:09.344995Z"
    },
    "papermill": {
     "duration": 0.028276,
     "end_time": "2023-01-18T17:31:09.349305",
     "exception": false,
     "start_time": "2023-01-18T17:31:09.321029",
     "status": "completed"
    },
    "tags": []
   },
   "outputs": [
    {
     "name": "stdout",
     "output_type": "stream",
     "text": [
      "Accuracy: 75.95%\n"
     ]
    }
   ],
   "source": [
    "print('Accuracy: %.2f' % (accuracy*100) + \"%\")"
   ]
  },
  {
   "cell_type": "code",
   "execution_count": 30,
   "id": "e3aeec49",
   "metadata": {
    "execution": {
     "iopub.execute_input": "2023-01-18T17:31:09.385757Z",
     "iopub.status.busy": "2023-01-18T17:31:09.385286Z",
     "iopub.status.idle": "2023-01-18T17:31:09.396726Z",
     "shell.execute_reply": "2023-01-18T17:31:09.395385Z"
    },
    "papermill": {
     "duration": 0.032881,
     "end_time": "2023-01-18T17:31:09.399420",
     "exception": false,
     "start_time": "2023-01-18T17:31:09.366539",
     "status": "completed"
    },
    "tags": []
   },
   "outputs": [
    {
     "name": "stdout",
     "output_type": "stream",
     "text": [
      "              precision    recall  f1-score   support\n",
      "\n",
      "           0       0.77      0.93      0.84        55\n",
      "           1       0.69      0.38      0.49        24\n",
      "\n",
      "    accuracy                           0.76        79\n",
      "   macro avg       0.73      0.65      0.66        79\n",
      "weighted avg       0.75      0.76      0.73        79\n",
      "\n"
     ]
    }
   ],
   "source": [
    "print(classification_report(diab_actual, diab_predicted))"
   ]
  },
  {
   "cell_type": "markdown",
   "id": "302d1c78",
   "metadata": {
    "papermill": {
     "duration": 0.016676,
     "end_time": "2023-01-18T17:31:09.433073",
     "exception": false,
     "start_time": "2023-01-18T17:31:09.416397",
     "status": "completed"
    },
    "tags": []
   },
   "source": [
    "<div style=\"color:white;\n",
    "           display:fill;\n",
    "           border-radius:5px;\n",
    "           background-color:orange;\n",
    "           font-size:120%;\n",
    "           font-family:Helvetica, Sans-Serif;\n",
    "           letter-spacing:0.5px\">\n",
    "\n",
    "<p style=\"padding: 10px;\n",
    "          text-align: center;\n",
    "          color:black;\">\n",
    "The F1 Score\n",
    "\n",
    "\n",
    "</p>"
   ]
  },
  {
   "cell_type": "markdown",
   "id": "e30a9a04",
   "metadata": {
    "papermill": {
     "duration": 0.017432,
     "end_time": "2023-01-18T17:31:09.467855",
     "exception": false,
     "start_time": "2023-01-18T17:31:09.450423",
     "status": "completed"
    },
    "tags": []
   },
   "source": [
    "\n"
   ]
  },
  {
   "cell_type": "code",
   "execution_count": 31,
   "id": "9738b589",
   "metadata": {
    "execution": {
     "iopub.execute_input": "2023-01-18T17:31:09.504441Z",
     "iopub.status.busy": "2023-01-18T17:31:09.503576Z",
     "iopub.status.idle": "2023-01-18T17:31:09.511722Z",
     "shell.execute_reply": "2023-01-18T17:31:09.510449Z"
    },
    "papermill": {
     "duration": 0.029266,
     "end_time": "2023-01-18T17:31:09.514251",
     "exception": false,
     "start_time": "2023-01-18T17:31:09.484985",
     "status": "completed"
    },
    "tags": []
   },
   "outputs": [
    {
     "name": "stdout",
     "output_type": "stream",
     "text": [
      "F1 Score: 0.48648648648648646\n"
     ]
    }
   ],
   "source": [
    "from sklearn.metrics import f1_score\n",
    "print(\"F1 Score: {}\".format(f1_score(diab_actual, diab_predicted)))"
   ]
  },
  {
   "cell_type": "markdown",
   "id": "9986920e",
   "metadata": {
    "papermill": {
     "duration": 0.016652,
     "end_time": "2023-01-18T17:31:09.547820",
     "exception": false,
     "start_time": "2023-01-18T17:31:09.531168",
     "status": "completed"
    },
    "tags": []
   },
   "source": [
    "<div style=\"color:white;\n",
    "           display:fill;\n",
    "           border-radius:5px;\n",
    "           background-color:orange;\n",
    "           font-size:120%;\n",
    "           font-family:Helvetica, Sans-Serif;\n",
    "           letter-spacing:0.5px\">\n",
    "\n",
    "<p style=\"padding: 10px;\n",
    "          text-align: center;\n",
    "          color:black;\">\n",
    "The ROC_AUC estimation\n",
    "\n",
    "\n",
    "</p>"
   ]
  },
  {
   "cell_type": "code",
   "execution_count": 32,
   "id": "cd57c8be",
   "metadata": {
    "execution": {
     "iopub.execute_input": "2023-01-18T17:31:09.583969Z",
     "iopub.status.busy": "2023-01-18T17:31:09.583112Z",
     "iopub.status.idle": "2023-01-18T17:31:09.591516Z",
     "shell.execute_reply": "2023-01-18T17:31:09.590276Z"
    },
    "papermill": {
     "duration": 0.029063,
     "end_time": "2023-01-18T17:31:09.593838",
     "exception": false,
     "start_time": "2023-01-18T17:31:09.564775",
     "status": "completed"
    },
    "tags": []
   },
   "outputs": [
    {
     "name": "stdout",
     "output_type": "stream",
     "text": [
      "AUC: 65.11%\n"
     ]
    }
   ],
   "source": [
    "roc_auc = roc_auc_score(diab_actual, diab_predicted)\n",
    "print('AUC: %.2f' % (roc_auc*100) + \"%\")"
   ]
  },
  {
   "cell_type": "markdown",
   "id": "ed1235e0",
   "metadata": {
    "papermill": {
     "duration": 0.016515,
     "end_time": "2023-01-18T17:31:09.628162",
     "exception": false,
     "start_time": "2023-01-18T17:31:09.611647",
     "status": "completed"
    },
    "tags": []
   },
   "source": [
    "<div style=\"color:white;\n",
    "           display:fill;\n",
    "           border-radius:5px;\n",
    "           background-color:orange;\n",
    "           font-size:120%;\n",
    "           font-family:Helvetica, Sans-Serif;\n",
    "           letter-spacing:0.5px\">\n",
    "\n",
    "<p style=\"padding: 10px;\n",
    "          text-align: center;\n",
    "          color:black;\">\n",
    "First we need to install plot-metric\n",
    "\n",
    "\n",
    "</p>"
   ]
  },
  {
   "cell_type": "code",
   "execution_count": 33,
   "id": "9726f0cc",
   "metadata": {
    "execution": {
     "iopub.execute_input": "2023-01-18T17:31:09.664804Z",
     "iopub.status.busy": "2023-01-18T17:31:09.664323Z",
     "iopub.status.idle": "2023-01-18T17:31:23.701174Z",
     "shell.execute_reply": "2023-01-18T17:31:23.699891Z"
    },
    "papermill": {
     "duration": 14.058501,
     "end_time": "2023-01-18T17:31:23.704053",
     "exception": false,
     "start_time": "2023-01-18T17:31:09.645552",
     "status": "completed"
    },
    "tags": []
   },
   "outputs": [
    {
     "name": "stdout",
     "output_type": "stream",
     "text": [
      "Collecting plot-metric\r\n",
      "  Downloading plot_metric-0.0.6-py3-none-any.whl (13 kB)\r\n",
      "Requirement already satisfied: pandas>=0.23.4 in /opt/conda/lib/python3.7/site-packages (from plot-metric) (1.3.5)\r\n",
      "Requirement already satisfied: numpy>=1.15.4 in /opt/conda/lib/python3.7/site-packages (from plot-metric) (1.21.6)\r\n",
      "Requirement already satisfied: matplotlib>=3.0.2 in /opt/conda/lib/python3.7/site-packages (from plot-metric) (3.5.3)\r\n",
      "Requirement already satisfied: scipy>=1.1.0 in /opt/conda/lib/python3.7/site-packages (from plot-metric) (1.7.3)\r\n",
      "Requirement already satisfied: colorlover>=0.3.0 in /opt/conda/lib/python3.7/site-packages (from plot-metric) (0.3.0)\r\n",
      "Requirement already satisfied: seaborn>=0.9.0 in /opt/conda/lib/python3.7/site-packages (from plot-metric) (0.11.2)\r\n",
      "Requirement already satisfied: scikit-learn>=0.21.2 in /opt/conda/lib/python3.7/site-packages (from plot-metric) (1.0.2)\r\n",
      "Requirement already satisfied: cycler>=0.10 in /opt/conda/lib/python3.7/site-packages (from matplotlib>=3.0.2->plot-metric) (0.11.0)\r\n",
      "Requirement already satisfied: packaging>=20.0 in /opt/conda/lib/python3.7/site-packages (from matplotlib>=3.0.2->plot-metric) (21.3)\r\n",
      "Requirement already satisfied: fonttools>=4.22.0 in /opt/conda/lib/python3.7/site-packages (from matplotlib>=3.0.2->plot-metric) (4.33.3)\r\n",
      "Requirement already satisfied: pillow>=6.2.0 in /opt/conda/lib/python3.7/site-packages (from matplotlib>=3.0.2->plot-metric) (9.1.1)\r\n",
      "Requirement already satisfied: kiwisolver>=1.0.1 in /opt/conda/lib/python3.7/site-packages (from matplotlib>=3.0.2->plot-metric) (1.4.3)\r\n",
      "Requirement already satisfied: pyparsing>=2.2.1 in /opt/conda/lib/python3.7/site-packages (from matplotlib>=3.0.2->plot-metric) (3.0.9)\r\n",
      "Requirement already satisfied: python-dateutil>=2.7 in /opt/conda/lib/python3.7/site-packages (from matplotlib>=3.0.2->plot-metric) (2.8.2)\r\n",
      "Requirement already satisfied: pytz>=2017.3 in /opt/conda/lib/python3.7/site-packages (from pandas>=0.23.4->plot-metric) (2022.1)\r\n",
      "Requirement already satisfied: threadpoolctl>=2.0.0 in /opt/conda/lib/python3.7/site-packages (from scikit-learn>=0.21.2->plot-metric) (3.1.0)\r\n",
      "Requirement already satisfied: joblib>=0.11 in /opt/conda/lib/python3.7/site-packages (from scikit-learn>=0.21.2->plot-metric) (1.0.1)\r\n",
      "Requirement already satisfied: typing-extensions in /opt/conda/lib/python3.7/site-packages (from kiwisolver>=1.0.1->matplotlib>=3.0.2->plot-metric) (4.4.0)\r\n",
      "Requirement already satisfied: six>=1.5 in /opt/conda/lib/python3.7/site-packages (from python-dateutil>=2.7->matplotlib>=3.0.2->plot-metric) (1.15.0)\r\n",
      "Installing collected packages: plot-metric\r\n",
      "Successfully installed plot-metric-0.0.6\r\n",
      "\u001b[33mWARNING: Running pip as the 'root' user can result in broken permissions and conflicting behaviour with the system package manager. It is recommended to use a virtual environment instead: https://pip.pypa.io/warnings/venv\u001b[0m\u001b[33m\r\n",
      "\u001b[0m"
     ]
    }
   ],
   "source": [
    "!pip install plot-metric"
   ]
  },
  {
   "cell_type": "markdown",
   "id": "9fecc6de",
   "metadata": {
    "papermill": {
     "duration": 0.017065,
     "end_time": "2023-01-18T17:31:23.738919",
     "exception": false,
     "start_time": "2023-01-18T17:31:23.721854",
     "status": "completed"
    },
    "tags": []
   },
   "source": [
    "<div style=\"color:white;\n",
    "           display:fill;\n",
    "           border-radius:5px;\n",
    "           background-color:orange;\n",
    "           font-size:120%;\n",
    "           font-family:Helvetica, Sans-Serif;\n",
    "           letter-spacing:0.5px\">\n",
    "\n",
    "<p style=\"padding: 10px;\n",
    "          text-align: center;\n",
    "          color:black;\">\n",
    "Visualisation with plot_metric\n",
    "\n",
    "\n",
    "</p>"
   ]
  },
  {
   "cell_type": "code",
   "execution_count": 34,
   "id": "955e05c4",
   "metadata": {
    "execution": {
     "iopub.execute_input": "2023-01-18T17:31:23.776542Z",
     "iopub.status.busy": "2023-01-18T17:31:23.775998Z",
     "iopub.status.idle": "2023-01-18T17:31:24.079237Z",
     "shell.execute_reply": "2023-01-18T17:31:24.077953Z"
    },
    "papermill": {
     "duration": 0.325446,
     "end_time": "2023-01-18T17:31:24.081872",
     "exception": false,
     "start_time": "2023-01-18T17:31:23.756426",
     "status": "completed"
    },
    "tags": []
   },
   "outputs": [
    {
     "data": {
      "image/png": "[encoded data removed]",
      "text/plain": [
       "<Figure size 360x360 with 1 Axes>"
      ]
     },
     "metadata": {},
     "output_type": "display_data"
    }
   ],
   "source": [
    "from plot_metric.functions import BinaryClassification\n",
    "\n",
    "\n",
    "bc = BinaryClassification(diab_actual,\n",
    "                          diab_predicted,\n",
    "                          labels = [\"Class 1\", \"Class 2\"])\n",
    "\n",
    "# Figures\n",
    "plt.figure(figsize = (5,5))\n",
    "bc.plot_roc_curve()\n",
    "plt.show()"
   ]
  },
  {
   "cell_type": "code",
   "execution_count": 35,
   "id": "b4236616",
   "metadata": {
    "execution": {
     "iopub.execute_input": "2023-01-18T17:31:24.121830Z",
     "iopub.status.busy": "2023-01-18T17:31:24.120433Z",
     "iopub.status.idle": "2023-01-18T17:31:24.126265Z",
     "shell.execute_reply": "2023-01-18T17:31:24.125328Z"
    },
    "papermill": {
     "duration": 0.028182,
     "end_time": "2023-01-18T17:31:24.128718",
     "exception": false,
     "start_time": "2023-01-18T17:31:24.100536",
     "status": "completed"
    },
    "tags": []
   },
   "outputs": [],
   "source": [
    "#Note model needs improvement"
   ]
  }
 ],
 "metadata": {
  "kernelspec": {
   "display_name": "Python 3",
   "language": "python",
   "name": "python3"
  },
  "language_info": {
   "codemirror_mode": {
    "name": "ipython",
    "version": 3
   },
   "file_extension": ".py",
   "mimetype": "text/x-python",
   "name": "python",
   "nbconvert_exporter": "python",
   "pygments_lexer": "ipython3",
   "version": "3.7.12"
  },
  "papermill": {
   "default_parameters": {},
   "duration": 28.71019,
   "end_time": "2023-01-18T17:31:25.071158",
   "environment_variables": {},
   "exception": null,
   "input_path": "__notebook__.ipynb",
   "output_path": "__notebook__.ipynb",
   "parameters": {},
   "start_time": "2023-01-18T17:30:56.360968",
   "version": "2.3.4"
  }
 },
 "nbformat": 4,
 "nbformat_minor": 5
}
